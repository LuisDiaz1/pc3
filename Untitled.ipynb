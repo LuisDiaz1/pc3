{
 "cells": [
  {
   "cell_type": "markdown",
   "id": "c213784d",
   "metadata": {},
   "source": [
    "# <span style=\"color:green\"> API - SPOTIFY"
   ]
  },
  {
   "cell_type": "markdown",
   "id": "2300d982",
   "metadata": {},
   "source": [
    "![](https://static.vecteezy.com/system/resources/previews/022/101/104/original/spotify-logo-transparent-free-png.png)\n",
    "## Spotify tiene una API (Application Programming Interface) que permite a los desarrolladores acceder y utilizar datos de la plataforma de música en sus propias aplicaciones y servicios. "
   ]
  },
  {
   "cell_type": "markdown",
   "id": "fe3808b8",
   "metadata": {},
   "source": [
    "## Documentacion https://developer.spotify.com/documentation/web-api\n",
    "## Usaremos como banda de ejemplo 'Pink Floyd'"
   ]
  },
  {
   "cell_type": "markdown",
   "id": "65ce5e76",
   "metadata": {},
   "source": [
    "## primero nos registramos en el siguiente link 'https://developer.spotify.com/' ahi creamos una app  y nos daran nuestro client_id y client_secret"
   ]
  },
  {
   "cell_type": "code",
   "execution_count": 4,
   "id": "9d97ad23",
   "metadata": {},
   "outputs": [],
   "source": [
    "client_id='e609138354904cda84e45b105b839630'\n",
    "client_secret='1986a5db5a4b4da2869f160df2a4f2fc'"
   ]
  },
  {
   "cell_type": "markdown",
   "id": "d54f06b5",
   "metadata": {},
   "source": [
    "#  <span style=\"color:red\"> ARTISTA \n",
    "## Obtendremos informacion del catalogo de spotify para un solo artista mediante su id  "
   ]
  },
  {
   "cell_type": "code",
   "execution_count": 5,
   "id": "e5daae85",
   "metadata": {},
   "outputs": [
    {
     "data": {
      "text/plain": [
       "'https://api.spotify.com/v1/artists/0k17h0D3J5VfsdmQ1iZtE9'"
      ]
     },
     "execution_count": 5,
     "metadata": {},
     "output_type": "execute_result"
    }
   ],
   "source": [
    "# segun la documentacion el end point para encontrar los meta datos de un artista es: \n",
    "end_point_artist='https://api.spotify.com/v1/artists/{id}' # id = codigo por artista\n",
    "id_pink_floyd='0k17h0D3J5VfsdmQ1iZtE9'\n",
    "url_artist=end_point_artist.format(id=id_pink_floyd)\n",
    "url_artist # en esta url haremos la requests para obtener un diccionario con la informacion general"
   ]
  },
  {
   "cell_type": "code",
   "execution_count": 6,
   "id": "d85f8a3a",
   "metadata": {},
   "outputs": [],
   "source": [
    "import requests"
   ]
  },
  {
   "cell_type": "code",
   "execution_count": 7,
   "id": "d566d5a4",
   "metadata": {},
   "outputs": [
    {
     "data": {
      "text/plain": [
       "401"
      ]
     },
     "execution_count": 7,
     "metadata": {},
     "output_type": "execute_result"
    }
   ],
   "source": [
    "solicitud=requests.get(url=url_artist)\n",
    "solicitud.status_code # no tenemos autorizacion, por lo que tenemos que crear un token de autorizacion el cual tiene un tiempo limitado"
   ]
  },
  {
   "cell_type": "markdown",
   "id": "99e04d5d",
   "metadata": {},
   "source": [
    "### EL NÚMERO 401  REPRESENTA UN ERROR"
   ]
  },
  {
   "cell_type": "code",
   "execution_count": 9,
   "id": "415bf9ac",
   "metadata": {},
   "outputs": [
    {
     "data": {
      "text/plain": [
       "{'error': {'status': 401, 'message': 'No token provided'}}"
      ]
     },
     "execution_count": 9,
     "metadata": {},
     "output_type": "execute_result"
    }
   ],
   "source": [
    "solicitud.json() # nos falta un token de autorizacion"
   ]
  },
  {
   "cell_type": "markdown",
   "id": "ed3b6507",
   "metadata": {},
   "source": [
    "#  <span style=\"color:brown\"> CREACION DEL TOKEN "
   ]
  },
  {
   "cell_type": "markdown",
   "id": "f8a63083",
   "metadata": {},
   "source": [
    "## Hay 2 maneras practicas, la primera mediante el siguiente [link](https://www.base64encode.org/) y la segunda creando una funcion con el modulo `base64`.  \n",
    "## En el primer metodo escribimos nuestro `Client_id` y nuestro `Client_secret` en el siguiente formato `Client_id`:`Client_id` el cual nos dara un token de una duracion de 3600 segundos.  \n",
    "## Una vez dado en `encode` nos dara nuestro token de autorizacion  ."
   ]
  },
  {
   "cell_type": "markdown",
   "id": "f4be1a0b",
   "metadata": {},
   "source": [
    "## La segunda forma seria creando una funcion que nos devuelva el token de autorizacion"
   ]
  },
  {
   "cell_type": "code",
   "execution_count": 11,
   "id": "3893a679",
   "metadata": {},
   "outputs": [
    {
     "data": {
      "text/plain": [
       "'ZTYwOTEzODM1NDkwNGNkYTg0ZTQ1YjEwNWI4Mzk2MzA6MTk4NmE1ZGI1YTRiNGRhMjg2OWYxNjBkZjJhNGYyZmM='"
      ]
     },
     "execution_count": 11,
     "metadata": {},
     "output_type": "execute_result"
    }
   ],
   "source": [
    "import base64\n",
    "# Codificando a Base64 'client_id:client_secrete'\n",
    "client_str = '{client_id}:{client_secret}'.format(client_id=client_id, client_secret=client_secret)\n",
    "client_encode = base64.b64encode(client_str.encode(\"utf-8\"))  # Codificado en Bytes\n",
    "client_encode = str(client_encode, \"utf-8\")  # Codificado en String\n",
    "\n",
    "token_url = 'https://accounts.spotify.com/api/token'\n",
    "params = {'grant_type': 'client_credentials'}\n",
    "headers= {'Authorization' : 'Basic {client_encode}'.format(client_encode=client_encode)}\n",
    "client_encode"
   ]
  },
  {
   "cell_type": "code",
   "execution_count": 12,
   "id": "df5446ed",
   "metadata": {},
   "outputs": [
    {
     "data": {
      "text/plain": [
       "200"
      ]
     },
     "execution_count": 12,
     "metadata": {},
     "output_type": "execute_result"
    }
   ],
   "source": [
    "r=requests.post(token_url,headers=headers,data=params) # la documentacion me pide cambiar el metodo a 'post' y le agrego dos argumentos;\n",
    "# headers y data\n",
    "r.status_code"
   ]
  },
  {
   "cell_type": "code",
   "execution_count": 13,
   "id": "14d88c5a",
   "metadata": {},
   "outputs": [
    {
     "data": {
      "text/plain": [
       "{'access_token': 'BQBZE4X1K6z3LyZrykEbjtjcr4fXbCtJiwXRFN0atmZcpYoLmvDbSVwZ0-1vv8lKKvn_Qp8tMea1YJOSqn2LbRsbPZe7PwLVxl9_e1qAg1TZ8sgPu7g',\n",
       " 'token_type': 'Bearer',\n",
       " 'expires_in': 3600}"
      ]
     },
     "execution_count": 13,
     "metadata": {},
     "output_type": "execute_result"
    }
   ],
   "source": [
    "r.json()"
   ]
  },
  {
   "cell_type": "code",
   "execution_count": 14,
   "id": "dca9fe9d",
   "metadata": {},
   "outputs": [
    {
     "data": {
      "text/plain": [
       "'BQBZE4X1K6z3LyZrykEbjtjcr4fXbCtJiwXRFN0atmZcpYoLmvDbSVwZ0-1vv8lKKvn_Qp8tMea1YJOSqn2LbRsbPZe7PwLVxl9_e1qAg1TZ8sgPu7g'"
      ]
     },
     "execution_count": 14,
     "metadata": {},
     "output_type": "execute_result"
    }
   ],
   "source": [
    "token=r.json()['access_token'] # obtuvimos nuestro token\n",
    "token"
   ]
  },
  {
   "cell_type": "code",
   "execution_count": 15,
   "id": "2245bba1",
   "metadata": {},
   "outputs": [],
   "source": [
    "# volvemos a hacer la solicitud\n",
    "# r=requests.get((url_artist)) , pero tenemos que agregarles algunos argumentos segun la documentacion\n",
    "header={'Authorization': 'Bearer {}'.format(token)}"
   ]
  },
  {
   "cell_type": "code",
   "execution_count": null,
   "id": "dcd53b7c",
   "metadata": {},
   "outputs": [],
   "source": [
    "![]()"
   ]
  }
 ],
 "metadata": {
  "kernelspec": {
   "display_name": "Python 3 (ipykernel)",
   "language": "python",
   "name": "python3"
  },
  "language_info": {
   "codemirror_mode": {
    "name": "ipython",
    "version": 3
   },
   "file_extension": ".py",
   "mimetype": "text/x-python",
   "name": "python",
   "nbconvert_exporter": "python",
   "pygments_lexer": "ipython3",
   "version": "3.9.13"
  }
 },
 "nbformat": 4,
 "nbformat_minor": 5
}
