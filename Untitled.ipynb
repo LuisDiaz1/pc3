{
 "cells": [
  {
   "cell_type": "markdown",
   "id": "52fb1955",
   "metadata": {},
   "source": [
    "# <span style=\"color:green\"> API - SPOTIFY"
   ]
  },
  {
   "cell_type": "markdown",
   "id": "47b625e7",
   "metadata": {},
   "source": [
    "![](https://static.vecteezy.com/system/resources/previews/022/101/104/original/spotify-logo-transparent-free-png.png)\n",
    "## Spotify tiene una API (Application Programming Interface) que permite a los desarrolladores acceder y utilizar datos de la plataforma de música en sus propias aplicaciones y servicios. "
   ]
  },
  {
   "cell_type": "markdown",
   "id": "f175888e",
   "metadata": {},
   "source": [
    "## Documentacion https://developer.spotify.com/documentation/web-api\n",
    "## Usaremos como banda de ejemplo 'Pink Floyd'"
   ]
  },
  {
   "cell_type": "markdown",
   "id": "9434fab2",
   "metadata": {},
   "source": [
    "## primero nos registramos en el siguiente link 'https://developer.spotify.com/' ahi creamos una app  y nos daran nuestro client_id y client_secret"
   ]
  },
  {
   "cell_type": "code",
   "execution_count": 4,
   "id": "8160ab7a",
   "metadata": {},
   "outputs": [],
   "source": [
    "client_id='e609138354904cda84e45b105b839630'\n",
    "client_secret='1986a5db5a4b4da2869f160df2a4f2fc'"
   ]
  },
  {
   "cell_type": "markdown",
   "id": "bade995f",
   "metadata": {},
   "source": [
    "#  <span style=\"color:red\"> ARTISTA \n",
    "## Obtendremos informacion del catalogo de spotify para un solo artista mediante su id  "
   ]
  },
  {
   "cell_type": "code",
   "execution_count": 5,
   "id": "d2e5f8d8",
   "metadata": {},
   "outputs": [
    {
     "data": {
      "text/plain": [
       "'https://api.spotify.com/v1/artists/0k17h0D3J5VfsdmQ1iZtE9'"
      ]
     },
     "execution_count": 5,
     "metadata": {},
     "output_type": "execute_result"
    }
   ],
   "source": [
    "# segun la documentacion el end point para encontrar los meta datos de un artista es: \n",
    "end_point_artist='https://api.spotify.com/v1/artists/{id}' # id = codigo por artista\n",
    "id_pink_floyd='0k17h0D3J5VfsdmQ1iZtE9'\n",
    "url_artist=end_point_artist.format(id=id_pink_floyd)\n",
    "url_artist # en esta url haremos la requests para obtener un diccionario con la informacion general"
   ]
  },
  {
   "cell_type": "code",
   "execution_count": 6,
   "id": "baf8ef71",
   "metadata": {},
   "outputs": [],
   "source": [
    "import requests"
   ]
  },
  {
   "cell_type": "code",
   "execution_count": 7,
   "id": "ea20214b",
   "metadata": {},
   "outputs": [
    {
     "data": {
      "text/plain": [
       "401"
      ]
     },
     "execution_count": 7,
     "metadata": {},
     "output_type": "execute_result"
    }
   ],
   "source": [
    "solicitud=requests.get(url=url_artist)\n",
    "solicitud.status_code # no tenemos autorizacion, por lo que tenemos que crear un token de autorizacion el cual tiene un tiempo limitado"
   ]
  },
  {
   "cell_type": "markdown",
   "id": "84f680c6",
   "metadata": {},
   "source": [
    "### EL NÚMERO 401  REPRESENTA UN ERROR"
   ]
  }
 ],
 "metadata": {
  "kernelspec": {
   "display_name": "Python 3 (ipykernel)",
   "language": "python",
   "name": "python3"
  },
  "language_info": {
   "codemirror_mode": {
    "name": "ipython",
    "version": 3
   },
   "file_extension": ".py",
   "mimetype": "text/x-python",
   "name": "python",
   "nbconvert_exporter": "python",
   "pygments_lexer": "ipython3",
   "version": "3.9.13"
  }
 },
 "nbformat": 4,
 "nbformat_minor": 5
}
